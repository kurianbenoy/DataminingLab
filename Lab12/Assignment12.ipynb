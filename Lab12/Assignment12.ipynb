{
  "nbformat": 4,
  "nbformat_minor": 0,
  "metadata": {
    "colab": {
      "name": "Assignment12.ipynb",
      "provenance": []
    },
    "kernelspec": {
      "name": "python3",
      "display_name": "Python 3"
    },
    "language_info": {
      "name": "python"
    }
  },
  "cells": [
    {
      "cell_type": "code",
      "execution_count": 1,
      "metadata": {
        "id": "IBOYTfw4k94c"
      },
      "outputs": [],
      "source": [
        "import numpy as np\n",
        "import pandas as pd\n",
        "import matplotlib.pyplot as plt\n",
        "import scipy.stats as stats"
      ]
    },
    {
      "cell_type": "code",
      "source": [
        "weather_df = pd.read_csv(\"https://raw.githubusercontent.com/kurianbenoy/DataminingLab/master/day-cnt.csv\")"
      ],
      "metadata": {
        "id": "_Ax8DIXklSfs"
      },
      "execution_count": 2,
      "outputs": []
    },
    {
      "cell_type": "code",
      "source": [
        "weather_df.head()"
      ],
      "metadata": {
        "colab": {
          "base_uri": "https://localhost:8080/",
          "height": 270
        },
        "id": "gKNkWx2tlX8q",
        "outputId": "d144e108-174f-43ee-a837-81812fa8599e"
      },
      "execution_count": 3,
      "outputs": [
        {
          "output_type": "execute_result",
          "data": {
            "text/plain": [
              "   instant      dteday  season  yr  mnth  holiday  weekday  workingday  \\\n",
              "0        1  2011-01-01       1   0     1        0        6           0   \n",
              "1        2  2011-01-02       1   0     1        0        0           0   \n",
              "2        3  2011-01-03       1   0     1        0        1           1   \n",
              "3        4  2011-01-04       1   0     1        0        2           1   \n",
              "4        5  2011-01-05       1   0     1        0        3           1   \n",
              "\n",
              "   weathersit      temp     atemp       hum  windspeed  casual  registered  \\\n",
              "0           2  0.344167  0.363625  0.805833   0.160446     331         654   \n",
              "1           2  0.363478  0.353739  0.696087   0.248539     131         670   \n",
              "2           1  0.196364  0.189405  0.437273   0.248309     120        1229   \n",
              "3           1  0.200000  0.212122  0.590435   0.160296     108        1454   \n",
              "4           1  0.226957  0.229270  0.436957   0.186900      82        1518   \n",
              "\n",
              "    cnt  \n",
              "0   985  \n",
              "1   801  \n",
              "2  1349  \n",
              "3  1562  \n",
              "4  1600  "
            ],
            "text/html": [
              "\n",
              "  <div id=\"df-b4a71166-d165-4d1e-9280-df652c60992a\">\n",
              "    <div class=\"colab-df-container\">\n",
              "      <div>\n",
              "<style scoped>\n",
              "    .dataframe tbody tr th:only-of-type {\n",
              "        vertical-align: middle;\n",
              "    }\n",
              "\n",
              "    .dataframe tbody tr th {\n",
              "        vertical-align: top;\n",
              "    }\n",
              "\n",
              "    .dataframe thead th {\n",
              "        text-align: right;\n",
              "    }\n",
              "</style>\n",
              "<table border=\"1\" class=\"dataframe\">\n",
              "  <thead>\n",
              "    <tr style=\"text-align: right;\">\n",
              "      <th></th>\n",
              "      <th>instant</th>\n",
              "      <th>dteday</th>\n",
              "      <th>season</th>\n",
              "      <th>yr</th>\n",
              "      <th>mnth</th>\n",
              "      <th>holiday</th>\n",
              "      <th>weekday</th>\n",
              "      <th>workingday</th>\n",
              "      <th>weathersit</th>\n",
              "      <th>temp</th>\n",
              "      <th>atemp</th>\n",
              "      <th>hum</th>\n",
              "      <th>windspeed</th>\n",
              "      <th>casual</th>\n",
              "      <th>registered</th>\n",
              "      <th>cnt</th>\n",
              "    </tr>\n",
              "  </thead>\n",
              "  <tbody>\n",
              "    <tr>\n",
              "      <th>0</th>\n",
              "      <td>1</td>\n",
              "      <td>2011-01-01</td>\n",
              "      <td>1</td>\n",
              "      <td>0</td>\n",
              "      <td>1</td>\n",
              "      <td>0</td>\n",
              "      <td>6</td>\n",
              "      <td>0</td>\n",
              "      <td>2</td>\n",
              "      <td>0.344167</td>\n",
              "      <td>0.363625</td>\n",
              "      <td>0.805833</td>\n",
              "      <td>0.160446</td>\n",
              "      <td>331</td>\n",
              "      <td>654</td>\n",
              "      <td>985</td>\n",
              "    </tr>\n",
              "    <tr>\n",
              "      <th>1</th>\n",
              "      <td>2</td>\n",
              "      <td>2011-01-02</td>\n",
              "      <td>1</td>\n",
              "      <td>0</td>\n",
              "      <td>1</td>\n",
              "      <td>0</td>\n",
              "      <td>0</td>\n",
              "      <td>0</td>\n",
              "      <td>2</td>\n",
              "      <td>0.363478</td>\n",
              "      <td>0.353739</td>\n",
              "      <td>0.696087</td>\n",
              "      <td>0.248539</td>\n",
              "      <td>131</td>\n",
              "      <td>670</td>\n",
              "      <td>801</td>\n",
              "    </tr>\n",
              "    <tr>\n",
              "      <th>2</th>\n",
              "      <td>3</td>\n",
              "      <td>2011-01-03</td>\n",
              "      <td>1</td>\n",
              "      <td>0</td>\n",
              "      <td>1</td>\n",
              "      <td>0</td>\n",
              "      <td>1</td>\n",
              "      <td>1</td>\n",
              "      <td>1</td>\n",
              "      <td>0.196364</td>\n",
              "      <td>0.189405</td>\n",
              "      <td>0.437273</td>\n",
              "      <td>0.248309</td>\n",
              "      <td>120</td>\n",
              "      <td>1229</td>\n",
              "      <td>1349</td>\n",
              "    </tr>\n",
              "    <tr>\n",
              "      <th>3</th>\n",
              "      <td>4</td>\n",
              "      <td>2011-01-04</td>\n",
              "      <td>1</td>\n",
              "      <td>0</td>\n",
              "      <td>1</td>\n",
              "      <td>0</td>\n",
              "      <td>2</td>\n",
              "      <td>1</td>\n",
              "      <td>1</td>\n",
              "      <td>0.200000</td>\n",
              "      <td>0.212122</td>\n",
              "      <td>0.590435</td>\n",
              "      <td>0.160296</td>\n",
              "      <td>108</td>\n",
              "      <td>1454</td>\n",
              "      <td>1562</td>\n",
              "    </tr>\n",
              "    <tr>\n",
              "      <th>4</th>\n",
              "      <td>5</td>\n",
              "      <td>2011-01-05</td>\n",
              "      <td>1</td>\n",
              "      <td>0</td>\n",
              "      <td>1</td>\n",
              "      <td>0</td>\n",
              "      <td>3</td>\n",
              "      <td>1</td>\n",
              "      <td>1</td>\n",
              "      <td>0.226957</td>\n",
              "      <td>0.229270</td>\n",
              "      <td>0.436957</td>\n",
              "      <td>0.186900</td>\n",
              "      <td>82</td>\n",
              "      <td>1518</td>\n",
              "      <td>1600</td>\n",
              "    </tr>\n",
              "  </tbody>\n",
              "</table>\n",
              "</div>\n",
              "      <button class=\"colab-df-convert\" onclick=\"convertToInteractive('df-b4a71166-d165-4d1e-9280-df652c60992a')\"\n",
              "              title=\"Convert this dataframe to an interactive table.\"\n",
              "              style=\"display:none;\">\n",
              "        \n",
              "  <svg xmlns=\"http://www.w3.org/2000/svg\" height=\"24px\"viewBox=\"0 0 24 24\"\n",
              "       width=\"24px\">\n",
              "    <path d=\"M0 0h24v24H0V0z\" fill=\"none\"/>\n",
              "    <path d=\"M18.56 5.44l.94 2.06.94-2.06 2.06-.94-2.06-.94-.94-2.06-.94 2.06-2.06.94zm-11 1L8.5 8.5l.94-2.06 2.06-.94-2.06-.94L8.5 2.5l-.94 2.06-2.06.94zm10 10l.94 2.06.94-2.06 2.06-.94-2.06-.94-.94-2.06-.94 2.06-2.06.94z\"/><path d=\"M17.41 7.96l-1.37-1.37c-.4-.4-.92-.59-1.43-.59-.52 0-1.04.2-1.43.59L10.3 9.45l-7.72 7.72c-.78.78-.78 2.05 0 2.83L4 21.41c.39.39.9.59 1.41.59.51 0 1.02-.2 1.41-.59l7.78-7.78 2.81-2.81c.8-.78.8-2.07 0-2.86zM5.41 20L4 18.59l7.72-7.72 1.47 1.35L5.41 20z\"/>\n",
              "  </svg>\n",
              "      </button>\n",
              "      \n",
              "  <style>\n",
              "    .colab-df-container {\n",
              "      display:flex;\n",
              "      flex-wrap:wrap;\n",
              "      gap: 12px;\n",
              "    }\n",
              "\n",
              "    .colab-df-convert {\n",
              "      background-color: #E8F0FE;\n",
              "      border: none;\n",
              "      border-radius: 50%;\n",
              "      cursor: pointer;\n",
              "      display: none;\n",
              "      fill: #1967D2;\n",
              "      height: 32px;\n",
              "      padding: 0 0 0 0;\n",
              "      width: 32px;\n",
              "    }\n",
              "\n",
              "    .colab-df-convert:hover {\n",
              "      background-color: #E2EBFA;\n",
              "      box-shadow: 0px 1px 2px rgba(60, 64, 67, 0.3), 0px 1px 3px 1px rgba(60, 64, 67, 0.15);\n",
              "      fill: #174EA6;\n",
              "    }\n",
              "\n",
              "    [theme=dark] .colab-df-convert {\n",
              "      background-color: #3B4455;\n",
              "      fill: #D2E3FC;\n",
              "    }\n",
              "\n",
              "    [theme=dark] .colab-df-convert:hover {\n",
              "      background-color: #434B5C;\n",
              "      box-shadow: 0px 1px 3px 1px rgba(0, 0, 0, 0.15);\n",
              "      filter: drop-shadow(0px 1px 2px rgba(0, 0, 0, 0.3));\n",
              "      fill: #FFFFFF;\n",
              "    }\n",
              "  </style>\n",
              "\n",
              "      <script>\n",
              "        const buttonEl =\n",
              "          document.querySelector('#df-b4a71166-d165-4d1e-9280-df652c60992a button.colab-df-convert');\n",
              "        buttonEl.style.display =\n",
              "          google.colab.kernel.accessAllowed ? 'block' : 'none';\n",
              "\n",
              "        async function convertToInteractive(key) {\n",
              "          const element = document.querySelector('#df-b4a71166-d165-4d1e-9280-df652c60992a');\n",
              "          const dataTable =\n",
              "            await google.colab.kernel.invokeFunction('convertToInteractive',\n",
              "                                                     [key], {});\n",
              "          if (!dataTable) return;\n",
              "\n",
              "          const docLinkHtml = 'Like what you see? Visit the ' +\n",
              "            '<a target=\"_blank\" href=https://colab.research.google.com/notebooks/data_table.ipynb>data table notebook</a>'\n",
              "            + ' to learn more about interactive tables.';\n",
              "          element.innerHTML = '';\n",
              "          dataTable['output_type'] = 'display_data';\n",
              "          await google.colab.output.renderOutput(dataTable, element);\n",
              "          const docLink = document.createElement('div');\n",
              "          docLink.innerHTML = docLinkHtml;\n",
              "          element.appendChild(docLink);\n",
              "        }\n",
              "      </script>\n",
              "    </div>\n",
              "  </div>\n",
              "  "
            ]
          },
          "metadata": {},
          "execution_count": 3
        }
      ]
    },
    {
      "cell_type": "code",
      "source": [
        "weather_df.info()"
      ],
      "metadata": {
        "colab": {
          "base_uri": "https://localhost:8080/"
        },
        "id": "DMJx75jlw5VX",
        "outputId": "7ca10221-b12e-47f9-9a2b-e6da33b5e0b6"
      },
      "execution_count": 4,
      "outputs": [
        {
          "output_type": "stream",
          "name": "stdout",
          "text": [
            "<class 'pandas.core.frame.DataFrame'>\n",
            "RangeIndex: 731 entries, 0 to 730\n",
            "Data columns (total 16 columns):\n",
            " #   Column      Non-Null Count  Dtype  \n",
            "---  ------      --------------  -----  \n",
            " 0   instant     731 non-null    int64  \n",
            " 1   dteday      731 non-null    object \n",
            " 2   season      731 non-null    int64  \n",
            " 3   yr          731 non-null    int64  \n",
            " 4   mnth        731 non-null    int64  \n",
            " 5   holiday     731 non-null    int64  \n",
            " 6   weekday     731 non-null    int64  \n",
            " 7   workingday  731 non-null    int64  \n",
            " 8   weathersit  731 non-null    int64  \n",
            " 9   temp        731 non-null    float64\n",
            " 10  atemp       731 non-null    float64\n",
            " 11  hum         731 non-null    float64\n",
            " 12  windspeed   731 non-null    float64\n",
            " 13  casual      731 non-null    int64  \n",
            " 14  registered  731 non-null    int64  \n",
            " 15  cnt         731 non-null    int64  \n",
            "dtypes: float64(4), int64(11), object(1)\n",
            "memory usage: 91.5+ KB\n"
          ]
        }
      ]
    },
    {
      "cell_type": "code",
      "source": [
        "weather_df.describe()"
      ],
      "metadata": {
        "colab": {
          "base_uri": "https://localhost:8080/",
          "height": 364
        },
        "id": "iNRWorf2lZMb",
        "outputId": "bc92c2ee-31cb-4584-f52b-dbf8878a9acf"
      },
      "execution_count": 5,
      "outputs": [
        {
          "output_type": "execute_result",
          "data": {
            "text/plain": [
              "          instant      season          yr        mnth     holiday     weekday  \\\n",
              "count  731.000000  731.000000  731.000000  731.000000  731.000000  731.000000   \n",
              "mean   366.000000    2.496580    0.500684    6.519836    0.028728    2.997264   \n",
              "std    211.165812    1.110807    0.500342    3.451913    0.167155    2.004787   \n",
              "min      1.000000    1.000000    0.000000    1.000000    0.000000    0.000000   \n",
              "25%    183.500000    2.000000    0.000000    4.000000    0.000000    1.000000   \n",
              "50%    366.000000    3.000000    1.000000    7.000000    0.000000    3.000000   \n",
              "75%    548.500000    3.000000    1.000000   10.000000    0.000000    5.000000   \n",
              "max    731.000000    4.000000    1.000000   12.000000    1.000000    6.000000   \n",
              "\n",
              "       workingday  weathersit        temp       atemp         hum   windspeed  \\\n",
              "count  731.000000  731.000000  731.000000  731.000000  731.000000  731.000000   \n",
              "mean     0.683995    1.395349    0.495385    0.474354    0.627894    0.190486   \n",
              "std      0.465233    0.544894    0.183051    0.162961    0.142429    0.077498   \n",
              "min      0.000000    1.000000    0.059130    0.079070    0.000000    0.022392   \n",
              "25%      0.000000    1.000000    0.337083    0.337842    0.520000    0.134950   \n",
              "50%      1.000000    1.000000    0.498333    0.486733    0.626667    0.180975   \n",
              "75%      1.000000    2.000000    0.655417    0.608602    0.730209    0.233214   \n",
              "max      1.000000    3.000000    0.861667    0.840896    0.972500    0.507463   \n",
              "\n",
              "            casual   registered          cnt  \n",
              "count   731.000000   731.000000   731.000000  \n",
              "mean    848.176471  3656.172367  4504.348837  \n",
              "std     686.622488  1560.256377  1937.211452  \n",
              "min       2.000000    20.000000    22.000000  \n",
              "25%     315.500000  2497.000000  3152.000000  \n",
              "50%     713.000000  3662.000000  4548.000000  \n",
              "75%    1096.000000  4776.500000  5956.000000  \n",
              "max    3410.000000  6946.000000  8714.000000  "
            ],
            "text/html": [
              "\n",
              "  <div id=\"df-0854d90b-2eb3-4870-8f59-4be04ca82973\">\n",
              "    <div class=\"colab-df-container\">\n",
              "      <div>\n",
              "<style scoped>\n",
              "    .dataframe tbody tr th:only-of-type {\n",
              "        vertical-align: middle;\n",
              "    }\n",
              "\n",
              "    .dataframe tbody tr th {\n",
              "        vertical-align: top;\n",
              "    }\n",
              "\n",
              "    .dataframe thead th {\n",
              "        text-align: right;\n",
              "    }\n",
              "</style>\n",
              "<table border=\"1\" class=\"dataframe\">\n",
              "  <thead>\n",
              "    <tr style=\"text-align: right;\">\n",
              "      <th></th>\n",
              "      <th>instant</th>\n",
              "      <th>season</th>\n",
              "      <th>yr</th>\n",
              "      <th>mnth</th>\n",
              "      <th>holiday</th>\n",
              "      <th>weekday</th>\n",
              "      <th>workingday</th>\n",
              "      <th>weathersit</th>\n",
              "      <th>temp</th>\n",
              "      <th>atemp</th>\n",
              "      <th>hum</th>\n",
              "      <th>windspeed</th>\n",
              "      <th>casual</th>\n",
              "      <th>registered</th>\n",
              "      <th>cnt</th>\n",
              "    </tr>\n",
              "  </thead>\n",
              "  <tbody>\n",
              "    <tr>\n",
              "      <th>count</th>\n",
              "      <td>731.000000</td>\n",
              "      <td>731.000000</td>\n",
              "      <td>731.000000</td>\n",
              "      <td>731.000000</td>\n",
              "      <td>731.000000</td>\n",
              "      <td>731.000000</td>\n",
              "      <td>731.000000</td>\n",
              "      <td>731.000000</td>\n",
              "      <td>731.000000</td>\n",
              "      <td>731.000000</td>\n",
              "      <td>731.000000</td>\n",
              "      <td>731.000000</td>\n",
              "      <td>731.000000</td>\n",
              "      <td>731.000000</td>\n",
              "      <td>731.000000</td>\n",
              "    </tr>\n",
              "    <tr>\n",
              "      <th>mean</th>\n",
              "      <td>366.000000</td>\n",
              "      <td>2.496580</td>\n",
              "      <td>0.500684</td>\n",
              "      <td>6.519836</td>\n",
              "      <td>0.028728</td>\n",
              "      <td>2.997264</td>\n",
              "      <td>0.683995</td>\n",
              "      <td>1.395349</td>\n",
              "      <td>0.495385</td>\n",
              "      <td>0.474354</td>\n",
              "      <td>0.627894</td>\n",
              "      <td>0.190486</td>\n",
              "      <td>848.176471</td>\n",
              "      <td>3656.172367</td>\n",
              "      <td>4504.348837</td>\n",
              "    </tr>\n",
              "    <tr>\n",
              "      <th>std</th>\n",
              "      <td>211.165812</td>\n",
              "      <td>1.110807</td>\n",
              "      <td>0.500342</td>\n",
              "      <td>3.451913</td>\n",
              "      <td>0.167155</td>\n",
              "      <td>2.004787</td>\n",
              "      <td>0.465233</td>\n",
              "      <td>0.544894</td>\n",
              "      <td>0.183051</td>\n",
              "      <td>0.162961</td>\n",
              "      <td>0.142429</td>\n",
              "      <td>0.077498</td>\n",
              "      <td>686.622488</td>\n",
              "      <td>1560.256377</td>\n",
              "      <td>1937.211452</td>\n",
              "    </tr>\n",
              "    <tr>\n",
              "      <th>min</th>\n",
              "      <td>1.000000</td>\n",
              "      <td>1.000000</td>\n",
              "      <td>0.000000</td>\n",
              "      <td>1.000000</td>\n",
              "      <td>0.000000</td>\n",
              "      <td>0.000000</td>\n",
              "      <td>0.000000</td>\n",
              "      <td>1.000000</td>\n",
              "      <td>0.059130</td>\n",
              "      <td>0.079070</td>\n",
              "      <td>0.000000</td>\n",
              "      <td>0.022392</td>\n",
              "      <td>2.000000</td>\n",
              "      <td>20.000000</td>\n",
              "      <td>22.000000</td>\n",
              "    </tr>\n",
              "    <tr>\n",
              "      <th>25%</th>\n",
              "      <td>183.500000</td>\n",
              "      <td>2.000000</td>\n",
              "      <td>0.000000</td>\n",
              "      <td>4.000000</td>\n",
              "      <td>0.000000</td>\n",
              "      <td>1.000000</td>\n",
              "      <td>0.000000</td>\n",
              "      <td>1.000000</td>\n",
              "      <td>0.337083</td>\n",
              "      <td>0.337842</td>\n",
              "      <td>0.520000</td>\n",
              "      <td>0.134950</td>\n",
              "      <td>315.500000</td>\n",
              "      <td>2497.000000</td>\n",
              "      <td>3152.000000</td>\n",
              "    </tr>\n",
              "    <tr>\n",
              "      <th>50%</th>\n",
              "      <td>366.000000</td>\n",
              "      <td>3.000000</td>\n",
              "      <td>1.000000</td>\n",
              "      <td>7.000000</td>\n",
              "      <td>0.000000</td>\n",
              "      <td>3.000000</td>\n",
              "      <td>1.000000</td>\n",
              "      <td>1.000000</td>\n",
              "      <td>0.498333</td>\n",
              "      <td>0.486733</td>\n",
              "      <td>0.626667</td>\n",
              "      <td>0.180975</td>\n",
              "      <td>713.000000</td>\n",
              "      <td>3662.000000</td>\n",
              "      <td>4548.000000</td>\n",
              "    </tr>\n",
              "    <tr>\n",
              "      <th>75%</th>\n",
              "      <td>548.500000</td>\n",
              "      <td>3.000000</td>\n",
              "      <td>1.000000</td>\n",
              "      <td>10.000000</td>\n",
              "      <td>0.000000</td>\n",
              "      <td>5.000000</td>\n",
              "      <td>1.000000</td>\n",
              "      <td>2.000000</td>\n",
              "      <td>0.655417</td>\n",
              "      <td>0.608602</td>\n",
              "      <td>0.730209</td>\n",
              "      <td>0.233214</td>\n",
              "      <td>1096.000000</td>\n",
              "      <td>4776.500000</td>\n",
              "      <td>5956.000000</td>\n",
              "    </tr>\n",
              "    <tr>\n",
              "      <th>max</th>\n",
              "      <td>731.000000</td>\n",
              "      <td>4.000000</td>\n",
              "      <td>1.000000</td>\n",
              "      <td>12.000000</td>\n",
              "      <td>1.000000</td>\n",
              "      <td>6.000000</td>\n",
              "      <td>1.000000</td>\n",
              "      <td>3.000000</td>\n",
              "      <td>0.861667</td>\n",
              "      <td>0.840896</td>\n",
              "      <td>0.972500</td>\n",
              "      <td>0.507463</td>\n",
              "      <td>3410.000000</td>\n",
              "      <td>6946.000000</td>\n",
              "      <td>8714.000000</td>\n",
              "    </tr>\n",
              "  </tbody>\n",
              "</table>\n",
              "</div>\n",
              "      <button class=\"colab-df-convert\" onclick=\"convertToInteractive('df-0854d90b-2eb3-4870-8f59-4be04ca82973')\"\n",
              "              title=\"Convert this dataframe to an interactive table.\"\n",
              "              style=\"display:none;\">\n",
              "        \n",
              "  <svg xmlns=\"http://www.w3.org/2000/svg\" height=\"24px\"viewBox=\"0 0 24 24\"\n",
              "       width=\"24px\">\n",
              "    <path d=\"M0 0h24v24H0V0z\" fill=\"none\"/>\n",
              "    <path d=\"M18.56 5.44l.94 2.06.94-2.06 2.06-.94-2.06-.94-.94-2.06-.94 2.06-2.06.94zm-11 1L8.5 8.5l.94-2.06 2.06-.94-2.06-.94L8.5 2.5l-.94 2.06-2.06.94zm10 10l.94 2.06.94-2.06 2.06-.94-2.06-.94-.94-2.06-.94 2.06-2.06.94z\"/><path d=\"M17.41 7.96l-1.37-1.37c-.4-.4-.92-.59-1.43-.59-.52 0-1.04.2-1.43.59L10.3 9.45l-7.72 7.72c-.78.78-.78 2.05 0 2.83L4 21.41c.39.39.9.59 1.41.59.51 0 1.02-.2 1.41-.59l7.78-7.78 2.81-2.81c.8-.78.8-2.07 0-2.86zM5.41 20L4 18.59l7.72-7.72 1.47 1.35L5.41 20z\"/>\n",
              "  </svg>\n",
              "      </button>\n",
              "      \n",
              "  <style>\n",
              "    .colab-df-container {\n",
              "      display:flex;\n",
              "      flex-wrap:wrap;\n",
              "      gap: 12px;\n",
              "    }\n",
              "\n",
              "    .colab-df-convert {\n",
              "      background-color: #E8F0FE;\n",
              "      border: none;\n",
              "      border-radius: 50%;\n",
              "      cursor: pointer;\n",
              "      display: none;\n",
              "      fill: #1967D2;\n",
              "      height: 32px;\n",
              "      padding: 0 0 0 0;\n",
              "      width: 32px;\n",
              "    }\n",
              "\n",
              "    .colab-df-convert:hover {\n",
              "      background-color: #E2EBFA;\n",
              "      box-shadow: 0px 1px 2px rgba(60, 64, 67, 0.3), 0px 1px 3px 1px rgba(60, 64, 67, 0.15);\n",
              "      fill: #174EA6;\n",
              "    }\n",
              "\n",
              "    [theme=dark] .colab-df-convert {\n",
              "      background-color: #3B4455;\n",
              "      fill: #D2E3FC;\n",
              "    }\n",
              "\n",
              "    [theme=dark] .colab-df-convert:hover {\n",
              "      background-color: #434B5C;\n",
              "      box-shadow: 0px 1px 3px 1px rgba(0, 0, 0, 0.15);\n",
              "      filter: drop-shadow(0px 1px 2px rgba(0, 0, 0, 0.3));\n",
              "      fill: #FFFFFF;\n",
              "    }\n",
              "  </style>\n",
              "\n",
              "      <script>\n",
              "        const buttonEl =\n",
              "          document.querySelector('#df-0854d90b-2eb3-4870-8f59-4be04ca82973 button.colab-df-convert');\n",
              "        buttonEl.style.display =\n",
              "          google.colab.kernel.accessAllowed ? 'block' : 'none';\n",
              "\n",
              "        async function convertToInteractive(key) {\n",
              "          const element = document.querySelector('#df-0854d90b-2eb3-4870-8f59-4be04ca82973');\n",
              "          const dataTable =\n",
              "            await google.colab.kernel.invokeFunction('convertToInteractive',\n",
              "                                                     [key], {});\n",
              "          if (!dataTable) return;\n",
              "\n",
              "          const docLinkHtml = 'Like what you see? Visit the ' +\n",
              "            '<a target=\"_blank\" href=https://colab.research.google.com/notebooks/data_table.ipynb>data table notebook</a>'\n",
              "            + ' to learn more about interactive tables.';\n",
              "          element.innerHTML = '';\n",
              "          dataTable['output_type'] = 'display_data';\n",
              "          await google.colab.output.renderOutput(dataTable, element);\n",
              "          const docLink = document.createElement('div');\n",
              "          docLink.innerHTML = docLinkHtml;\n",
              "          element.appendChild(docLink);\n",
              "        }\n",
              "      </script>\n",
              "    </div>\n",
              "  </div>\n",
              "  "
            ]
          },
          "metadata": {},
          "execution_count": 5
        }
      ]
    },
    {
      "cell_type": "code",
      "source": [
        "numerical_cols = [\"temp\", \"atemp\", \"hum\", \"windspeed\"]\n",
        "categorical_cols = [\"season\", \"yr\", \"mnth\", \"holiday\", \"weekday\", \"workingday\",\"weathersit\"]"
      ],
      "metadata": {
        "id": "xwYqcGQnm62X"
      },
      "execution_count": 6,
      "outputs": []
    },
    {
      "cell_type": "code",
      "source": [
        "boxplot = weather_df.boxplot(column=numerical_cols)"
      ],
      "metadata": {
        "colab": {
          "base_uri": "https://localhost:8080/",
          "height": 265
        },
        "id": "KwY1XoNEqjSf",
        "outputId": "8e505e73-f386-4411-bc7d-47b64419c82d"
      },
      "execution_count": 7,
      "outputs": [
        {
          "output_type": "display_data",
          "data": {
            "text/plain": [
              "<Figure size 432x288 with 1 Axes>"
            ],
            "image/png": "[encoded data removed]"
          },
          "metadata": {
            "needs_background": "light"
          }
        }
      ]
    },
    {
      "cell_type": "markdown",
      "source": [
        "## Use standard deviation outlier mechanism\n",
        "\n",
        "(If it's 2* SD away from mean of data point, consider a outlier)"
      ],
      "metadata": {
        "id": "VbLqpw3LpcWV"
      }
    },
    {
      "cell_type": "code",
      "source": [
        "mean_value = np.mean(weather_df[\"temp\"])\n",
        "std_value = np.std(weather_df[\"temp\"])"
      ],
      "metadata": {
        "id": "ZzKXMud6r-tc"
      },
      "execution_count": 8,
      "outputs": []
    },
    {
      "cell_type": "code",
      "source": [
        "mean_value"
      ],
      "metadata": {
        "colab": {
          "base_uri": "https://localhost:8080/"
        },
        "id": "eR9Zts9Qsbt6",
        "outputId": "e6956e35-d6b3-4a6d-a6f1-b665b1248eb2"
      },
      "execution_count": 9,
      "outputs": [
        {
          "output_type": "execute_result",
          "data": {
            "text/plain": [
              "0.49538478850889184"
            ]
          },
          "metadata": {},
          "execution_count": 9
        }
      ]
    },
    {
      "cell_type": "code",
      "source": [
        "std_value"
      ],
      "metadata": {
        "colab": {
          "base_uri": "https://localhost:8080/"
        },
        "id": "9OdmuzBCsZWl",
        "outputId": "88e18568-45d9-4db0-e49e-ecf6c2170719"
      },
      "execution_count": 35,
      "outputs": [
        {
          "output_type": "execute_result",
          "data": {
            "text/plain": [
              "0.18292574738241338"
            ]
          },
          "metadata": {},
          "execution_count": 35
        }
      ]
    },
    {
      "cell_type": "markdown",
      "source": [
        "1. Count no of outliers corresponding to this method?\n",
        "2. Replace those outliers with mean value of attribute corresponding."
      ],
      "metadata": {
        "id": "LoC9-8o5prwx"
      }
    },
    {
      "cell_type": "code",
      "source": [
        "outlier_range = (mean_value-2*std_value, mean_value+2*std_value)"
      ],
      "metadata": {
        "id": "XotwlyO2snjf"
      },
      "execution_count": 10,
      "outputs": []
    },
    {
      "cell_type": "code",
      "source": [
        "outlier_range"
      ],
      "metadata": {
        "colab": {
          "base_uri": "https://localhost:8080/"
        },
        "id": "uLJsrmTVsslI",
        "outputId": "c7c1e7ac-d31c-43e5-9c3e-61ea74ce8816"
      },
      "execution_count": 11,
      "outputs": [
        {
          "output_type": "execute_result",
          "data": {
            "text/plain": [
              "(0.12953329374406508, 0.8612362832737186)"
            ]
          },
          "metadata": {},
          "execution_count": 11
        }
      ]
    },
    {
      "cell_type": "code",
      "source": [
        "outlier_temp = weather_df[~weather_df[\"temp\"].between(0.12953329374406508, 0.8612362832737186)]"
      ],
      "metadata": {
        "id": "HcM6icQKtAaw"
      },
      "execution_count": 12,
      "outputs": []
    },
    {
      "cell_type": "code",
      "source": [
        "# number of outliers are:\n",
        "outlier_temp.shape"
      ],
      "metadata": {
        "colab": {
          "base_uri": "https://localhost:8080/"
        },
        "id": "-ZeTtsyXt0os",
        "outputId": "69590168-6b0a-4b65-a46a-b20fe92048ab"
      },
      "execution_count": 13,
      "outputs": [
        {
          "output_type": "execute_result",
          "data": {
            "text/plain": [
              "(6, 16)"
            ]
          },
          "metadata": {},
          "execution_count": 13
        }
      ]
    },
    {
      "cell_type": "code",
      "source": [
        "weather_df[~weather_df[\"temp\"].between(0.12953329374406508, 0.8612362832737186)].loc[:, \"temp\"] = mean_value\n",
        "outlier_temp[\"temp\"] = mean_value"
      ],
      "metadata": {
        "colab": {
          "base_uri": "https://localhost:8080/"
        },
        "id": "ob4NAl1mt4tD",
        "outputId": "5b2683d8-23e7-4289-ed46-5a021d5e3d9e"
      },
      "execution_count": 20,
      "outputs": [
        {
          "output_type": "stream",
          "name": "stderr",
          "text": [
            "/usr/local/lib/python3.7/dist-packages/pandas/core/indexing.py:1817: SettingWithCopyWarning: \n",
            "A value is trying to be set on a copy of a slice from a DataFrame.\n",
            "Try using .loc[row_indexer,col_indexer] = value instead\n",
            "\n",
            "See the caveats in the documentation: https://pandas.pydata.org/pandas-docs/stable/user_guide/indexing.html#returning-a-view-versus-a-copy\n",
            "  self._setitem_single_column(loc, value, pi)\n",
            "/usr/local/lib/python3.7/dist-packages/ipykernel_launcher.py:2: SettingWithCopyWarning: \n",
            "A value is trying to be set on a copy of a slice from a DataFrame.\n",
            "Try using .loc[row_indexer,col_indexer] = value instead\n",
            "\n",
            "See the caveats in the documentation: https://pandas.pydata.org/pandas-docs/stable/user_guide/indexing.html#returning-a-view-versus-a-copy\n",
            "  \n"
          ]
        }
      ]
    },
    {
      "cell_type": "code",
      "source": [
        "outlier_temp"
      ],
      "metadata": {
        "colab": {
          "base_uri": "https://localhost:8080/",
          "height": 301
        },
        "id": "vFcwexBLuD5_",
        "outputId": "c1324362-e967-46bc-f062-3c9ecbed81f1"
      },
      "execution_count": 18,
      "outputs": [
        {
          "output_type": "execute_result",
          "data": {
            "text/plain": [
              "     instant      dteday  season  yr  mnth  holiday  weekday  workingday  \\\n",
              "21        22  2011-01-22       1   0     1        0        6           0   \n",
              "22        23  2011-01-23       1   0     1        0        0           0   \n",
              "23        24  2011-01-24       1   0     1        0        1           1   \n",
              "368      369  2012-01-04       1   1     1        0        3           1   \n",
              "407      408  2012-02-12       1   1     2        0        0           0   \n",
              "553      554  2012-07-07       3   1     7        0        6           0   \n",
              "\n",
              "     weathersit      temp     atemp       hum  windspeed  casual  registered  \\\n",
              "21            1  0.495385  0.079070  0.400000   0.171970      93         888   \n",
              "22            1  0.495385  0.098839  0.436522   0.246600     150         836   \n",
              "23            1  0.495385  0.117930  0.491739   0.158330      86        1330   \n",
              "368           2  0.495385  0.119337  0.414583   0.184700      95        2273   \n",
              "407           1  0.495385  0.101658  0.464583   0.409212      73        1456   \n",
              "553           1  0.495385  0.804913  0.492083   0.163554    1448        3392   \n",
              "\n",
              "      cnt  \n",
              "21    981  \n",
              "22    986  \n",
              "23   1416  \n",
              "368  2368  \n",
              "407  1529  \n",
              "553  4840  "
            ],
            "text/html": [
              "\n",
              "  <div id=\"df-9a4214c9-81a1-48e5-8e21-815bdd75d92a\">\n",
              "    <div class=\"colab-df-container\">\n",
              "      <div>\n",
              "<style scoped>\n",
              "    .dataframe tbody tr th:only-of-type {\n",
              "        vertical-align: middle;\n",
              "    }\n",
              "\n",
              "    .dataframe tbody tr th {\n",
              "        vertical-align: top;\n",
              "    }\n",
              "\n",
              "    .dataframe thead th {\n",
              "        text-align: right;\n",
              "    }\n",
              "</style>\n",
              "<table border=\"1\" class=\"dataframe\">\n",
              "  <thead>\n",
              "    <tr style=\"text-align: right;\">\n",
              "      <th></th>\n",
              "      <th>instant</th>\n",
              "      <th>dteday</th>\n",
              "      <th>season</th>\n",
              "      <th>yr</th>\n",
              "      <th>mnth</th>\n",
              "      <th>holiday</th>\n",
              "      <th>weekday</th>\n",
              "      <th>workingday</th>\n",
              "      <th>weathersit</th>\n",
              "      <th>temp</th>\n",
              "      <th>atemp</th>\n",
              "      <th>hum</th>\n",
              "      <th>windspeed</th>\n",
              "      <th>casual</th>\n",
              "      <th>registered</th>\n",
              "      <th>cnt</th>\n",
              "    </tr>\n",
              "  </thead>\n",
              "  <tbody>\n",
              "    <tr>\n",
              "      <th>21</th>\n",
              "      <td>22</td>\n",
              "      <td>2011-01-22</td>\n",
              "      <td>1</td>\n",
              "      <td>0</td>\n",
              "      <td>1</td>\n",
              "      <td>0</td>\n",
              "      <td>6</td>\n",
              "      <td>0</td>\n",
              "      <td>1</td>\n",
              "      <td>0.495385</td>\n",
              "      <td>0.079070</td>\n",
              "      <td>0.400000</td>\n",
              "      <td>0.171970</td>\n",
              "      <td>93</td>\n",
              "      <td>888</td>\n",
              "      <td>981</td>\n",
              "    </tr>\n",
              "    <tr>\n",
              "      <th>22</th>\n",
              "      <td>23</td>\n",
              "      <td>2011-01-23</td>\n",
              "      <td>1</td>\n",
              "      <td>0</td>\n",
              "      <td>1</td>\n",
              "      <td>0</td>\n",
              "      <td>0</td>\n",
              "      <td>0</td>\n",
              "      <td>1</td>\n",
              "      <td>0.495385</td>\n",
              "      <td>0.098839</td>\n",
              "      <td>0.436522</td>\n",
              "      <td>0.246600</td>\n",
              "      <td>150</td>\n",
              "      <td>836</td>\n",
              "      <td>986</td>\n",
              "    </tr>\n",
              "    <tr>\n",
              "      <th>23</th>\n",
              "      <td>24</td>\n",
              "      <td>2011-01-24</td>\n",
              "      <td>1</td>\n",
              "      <td>0</td>\n",
              "      <td>1</td>\n",
              "      <td>0</td>\n",
              "      <td>1</td>\n",
              "      <td>1</td>\n",
              "      <td>1</td>\n",
              "      <td>0.495385</td>\n",
              "      <td>0.117930</td>\n",
              "      <td>0.491739</td>\n",
              "      <td>0.158330</td>\n",
              "      <td>86</td>\n",
              "      <td>1330</td>\n",
              "      <td>1416</td>\n",
              "    </tr>\n",
              "    <tr>\n",
              "      <th>368</th>\n",
              "      <td>369</td>\n",
              "      <td>2012-01-04</td>\n",
              "      <td>1</td>\n",
              "      <td>1</td>\n",
              "      <td>1</td>\n",
              "      <td>0</td>\n",
              "      <td>3</td>\n",
              "      <td>1</td>\n",
              "      <td>2</td>\n",
              "      <td>0.495385</td>\n",
              "      <td>0.119337</td>\n",
              "      <td>0.414583</td>\n",
              "      <td>0.184700</td>\n",
              "      <td>95</td>\n",
              "      <td>2273</td>\n",
              "      <td>2368</td>\n",
              "    </tr>\n",
              "    <tr>\n",
              "      <th>407</th>\n",
              "      <td>408</td>\n",
              "      <td>2012-02-12</td>\n",
              "      <td>1</td>\n",
              "      <td>1</td>\n",
              "      <td>2</td>\n",
              "      <td>0</td>\n",
              "      <td>0</td>\n",
              "      <td>0</td>\n",
              "      <td>1</td>\n",
              "      <td>0.495385</td>\n",
              "      <td>0.101658</td>\n",
              "      <td>0.464583</td>\n",
              "      <td>0.409212</td>\n",
              "      <td>73</td>\n",
              "      <td>1456</td>\n",
              "      <td>1529</td>\n",
              "    </tr>\n",
              "    <tr>\n",
              "      <th>553</th>\n",
              "      <td>554</td>\n",
              "      <td>2012-07-07</td>\n",
              "      <td>3</td>\n",
              "      <td>1</td>\n",
              "      <td>7</td>\n",
              "      <td>0</td>\n",
              "      <td>6</td>\n",
              "      <td>0</td>\n",
              "      <td>1</td>\n",
              "      <td>0.495385</td>\n",
              "      <td>0.804913</td>\n",
              "      <td>0.492083</td>\n",
              "      <td>0.163554</td>\n",
              "      <td>1448</td>\n",
              "      <td>3392</td>\n",
              "      <td>4840</td>\n",
              "    </tr>\n",
              "  </tbody>\n",
              "</table>\n",
              "</div>\n",
              "      <button class=\"colab-df-convert\" onclick=\"convertToInteractive('df-9a4214c9-81a1-48e5-8e21-815bdd75d92a')\"\n",
              "              title=\"Convert this dataframe to an interactive table.\"\n",
              "              style=\"display:none;\">\n",
              "        \n",
              "  <svg xmlns=\"http://www.w3.org/2000/svg\" height=\"24px\"viewBox=\"0 0 24 24\"\n",
              "       width=\"24px\">\n",
              "    <path d=\"M0 0h24v24H0V0z\" fill=\"none\"/>\n",
              "    <path d=\"M18.56 5.44l.94 2.06.94-2.06 2.06-.94-2.06-.94-.94-2.06-.94 2.06-2.06.94zm-11 1L8.5 8.5l.94-2.06 2.06-.94-2.06-.94L8.5 2.5l-.94 2.06-2.06.94zm10 10l.94 2.06.94-2.06 2.06-.94-2.06-.94-.94-2.06-.94 2.06-2.06.94z\"/><path d=\"M17.41 7.96l-1.37-1.37c-.4-.4-.92-.59-1.43-.59-.52 0-1.04.2-1.43.59L10.3 9.45l-7.72 7.72c-.78.78-.78 2.05 0 2.83L4 21.41c.39.39.9.59 1.41.59.51 0 1.02-.2 1.41-.59l7.78-7.78 2.81-2.81c.8-.78.8-2.07 0-2.86zM5.41 20L4 18.59l7.72-7.72 1.47 1.35L5.41 20z\"/>\n",
              "  </svg>\n",
              "      </button>\n",
              "      \n",
              "  <style>\n",
              "    .colab-df-container {\n",
              "      display:flex;\n",
              "      flex-wrap:wrap;\n",
              "      gap: 12px;\n",
              "    }\n",
              "\n",
              "    .colab-df-convert {\n",
              "      background-color: #E8F0FE;\n",
              "      border: none;\n",
              "      border-radius: 50%;\n",
              "      cursor: pointer;\n",
              "      display: none;\n",
              "      fill: #1967D2;\n",
              "      height: 32px;\n",
              "      padding: 0 0 0 0;\n",
              "      width: 32px;\n",
              "    }\n",
              "\n",
              "    .colab-df-convert:hover {\n",
              "      background-color: #E2EBFA;\n",
              "      box-shadow: 0px 1px 2px rgba(60, 64, 67, 0.3), 0px 1px 3px 1px rgba(60, 64, 67, 0.15);\n",
              "      fill: #174EA6;\n",
              "    }\n",
              "\n",
              "    [theme=dark] .colab-df-convert {\n",
              "      background-color: #3B4455;\n",
              "      fill: #D2E3FC;\n",
              "    }\n",
              "\n",
              "    [theme=dark] .colab-df-convert:hover {\n",
              "      background-color: #434B5C;\n",
              "      box-shadow: 0px 1px 3px 1px rgba(0, 0, 0, 0.15);\n",
              "      filter: drop-shadow(0px 1px 2px rgba(0, 0, 0, 0.3));\n",
              "      fill: #FFFFFF;\n",
              "    }\n",
              "  </style>\n",
              "\n",
              "      <script>\n",
              "        const buttonEl =\n",
              "          document.querySelector('#df-9a4214c9-81a1-48e5-8e21-815bdd75d92a button.colab-df-convert');\n",
              "        buttonEl.style.display =\n",
              "          google.colab.kernel.accessAllowed ? 'block' : 'none';\n",
              "\n",
              "        async function convertToInteractive(key) {\n",
              "          const element = document.querySelector('#df-9a4214c9-81a1-48e5-8e21-815bdd75d92a');\n",
              "          const dataTable =\n",
              "            await google.colab.kernel.invokeFunction('convertToInteractive',\n",
              "                                                     [key], {});\n",
              "          if (!dataTable) return;\n",
              "\n",
              "          const docLinkHtml = 'Like what you see? Visit the ' +\n",
              "            '<a target=\"_blank\" href=https://colab.research.google.com/notebooks/data_table.ipynb>data table notebook</a>'\n",
              "            + ' to learn more about interactive tables.';\n",
              "          element.innerHTML = '';\n",
              "          dataTable['output_type'] = 'display_data';\n",
              "          await google.colab.output.renderOutput(dataTable, element);\n",
              "          const docLink = document.createElement('div');\n",
              "          docLink.innerHTML = docLinkHtml;\n",
              "          element.appendChild(docLink);\n",
              "        }\n",
              "      </script>\n",
              "    </div>\n",
              "  </div>\n",
              "  "
            ]
          },
          "metadata": {},
          "execution_count": 18
        }
      ]
    },
    {
      "cell_type": "markdown",
      "source": [
        "**The number of outlier are: 6**\n",
        "\n",
        "Also we have replaced outlier temperature with mean temperature.\n",
        "\n",
        "Let's take a look at weather_df, distribution now."
      ],
      "metadata": {
        "id": "qlD5HgzKujsD"
      }
    },
    {
      "cell_type": "code",
      "source": [
        "plt.hist(weather_df[\"temp\"])\n",
        "plt.show()"
      ],
      "metadata": {
        "colab": {
          "base_uri": "https://localhost:8080/",
          "height": 265
        },
        "id": "AuSiDcPU6-QY",
        "outputId": "2181da48-1780-4ab2-98e8-43ef9556fb27"
      },
      "execution_count": 21,
      "outputs": [
        {
          "output_type": "display_data",
          "data": {
            "text/plain": [
              "<Figure size 432x288 with 1 Axes>"
            ],
            "image/png": "[encoded data removed]"
          },
          "metadata": {
            "needs_background": "light"
          }
        }
      ]
    },
    {
      "cell_type": "markdown",
      "source": [
        "### Humidity (numerical column)\n",
        "\n",
        "threshold - 3 outlier"
      ],
      "metadata": {
        "id": "CVWlPdiBu3dg"
      }
    },
    {
      "cell_type": "code",
      "source": [
        "stats.zscore(weather_df[\"hum\"])"
      ],
      "metadata": {
        "colab": {
          "base_uri": "https://localhost:8080/"
        },
        "id": "5IHzhmKGxoGo",
        "outputId": "cd694d01-c06e-45af-b71c-18d0ca3228a0"
      },
      "execution_count": 63,
      "outputs": [
        {
          "output_type": "execute_result",
          "data": {
            "text/plain": [
              "array([ 1.25017133e+00,  4.79112983e-01, -1.33927398e+00, -2.63181557e-01,\n",
              "       -1.34149414e+00, -7.70264869e-01, -9.07725520e-01, -6.46806727e-01,\n",
              "       -1.36109625e+00, -1.01858632e+00,  4.10800695e-01, -1.99176112e-01,\n",
              "       -1.10640938e+00, -6.32804219e-01, -9.07346125e-01, -1.01273379e+00,\n",
              "       -6.35094644e-01,  1.64245234e+00,  7.99856843e-01, -6.29242115e-01,\n",
              "       -1.20009199e+00, -1.60114828e+00, -1.34455039e+00, -9.56604321e-01,\n",
              "       -7.68421051e-02,  1.64830487e+00,  4.18782055e-01,  1.16031078e+00,\n",
              "        1.67530824e-01,  6.62396192e-01, -1.69632436e-01,  1.41690868e+00,\n",
              "        1.03647324e+00, -1.33538868e+00, -2.99842415e-01,  2.11669686e+00,\n",
              "       -4.18466776e-01,  7.75926816e-01, -6.32164867e-01, -9.35217650e-01,\n",
              "       -1.33844493e+00, -8.53851343e-01, -5.88253338e-01, -1.19792803e+00,\n",
              "       -1.77094187e+00, -2.20292593e+00, -1.43619550e+00, -8.63434595e-01,\n",
              "       -7.81464066e-01, -3.09121050e+00, -1.54616402e+00, -1.60850130e-01,\n",
              "       -3.52107673e-01, -1.43925175e+00,  4.88274684e-01,  5.92137746e-01,\n",
              "       -6.32164867e-01,  3.66088220e-01,  1.74571118e+00, -6.52659256e-01,\n",
              "       -1.25278583e+00, -2.17492794e+00, -1.22791129e-01,  1.13307860e+00,\n",
              "        2.25084833e+00, -5.38109884e-01, -1.45477886e+00,  1.03647324e+00,\n",
              "       -4.41148615e+00,  1.52256637e-01, -2.34038353e-01, -7.06118908e-01,\n",
              "       -9.19943464e-01,  1.95022954e-01,  1.04423680e+00, -1.75484964e-01,\n",
              "       -7.21393094e-01, -1.74751771e+00, -1.08299224e+00,  7.69308470e-01,\n",
              "       -2.32630138e-02,  1.48716712e+00,  1.25017133e+00, -9.33693042e-01,\n",
              "       -1.64213004e+00, -9.41330135e-01, -2.28845856e+00, -2.20419761e+00,\n",
              "        1.31895740e-01,  2.04057885e+00,  4.09999749e-01,  1.81659797e-01,\n",
              "       -1.03908071e+00, -1.41671986e+00,  9.96892677e-02, -1.10348663e+00,\n",
              "       -1.75484964e-01,  1.46387645e+00,  1.75369254e+00,  1.61317565e+00,\n",
              "        6.25735335e-01,  7.81786370e-01,  1.34385394e+00, -6.14600255e-01,\n",
              "        3.04612079e-01,  1.82980351e+00, -1.04201049e+00, -5.99965421e-01,\n",
              "        2.66553078e-01, -9.64442117e-02, -1.55138423e+00,  7.14450675e-01,\n",
              "        1.82688076e+00,  1.28530055e+00,  1.04525555e+00,  7.11527924e-01,\n",
              "        1.45802392e+00,  5.12457641e-01, -1.20009199e+00, -8.75146678e-01,\n",
              "        9.42790627e-01,  7.17380452e-01,  4.86110724e-01,  7.67144510e-01,\n",
              "       -1.29083780e+00, -2.66237800e-01, -6.08747727e-01,  2.65080698e-02,\n",
              "       -2.75020105e-01, -9.74674794e-01,  3.52903756e-02,  8.40332734e-01,\n",
              "        1.65415740e+00,  2.06985555e+00,  1.68050432e+00,  1.12429630e+00,\n",
              "        1.47558853e+00,  1.70099870e+00,  1.41703514e+00,  6.44192229e-01,\n",
              "       -8.62115351e-03,  8.54967568e-01,  1.27944803e+00,  7.93491428e-01,\n",
              "        4.80258195e-01,  3.48523608e-01,  1.81659797e-01,  7.14450675e-01,\n",
              "        1.34092417e+00,  4.01217443e-01,  6.16372931e-02,  3.45593831e-01,\n",
              "       -2.26860353e+00, -1.92316382e+00, -1.20594452e+00,  1.72877492e-01,\n",
              "       -1.95979353e-01, -2.10614187e-01, -4.08276254e-02, -4.18466776e-01,\n",
              "       -1.60850130e-01,  1.87512326e-01,  8.43262511e-01, -9.36622819e-01,\n",
              "       -8.48799761e-01, -1.09762708e+00,  4.24634583e-01,  7.58362204e-01,\n",
              "        2.98759550e-01,  2.72412633e-01,  8.31550428e-01,  1.00134402e+00,\n",
              "        5.59298948e-01,  5.30022253e-01, -3.83337552e-01, -1.01566357e+00,\n",
              "       -8.04888232e-01,  2.13859243e-01,  4.40726814e-02, -9.13198653e-01,\n",
              "       -1.36109625e+00, -1.62749520e+00, -1.28791505e+00,  3.83652831e-01,\n",
              "        7.04195989e-02, -2.63308022e-01,  8.11056039e-01,  1.64095186e-01,\n",
              "        9.13520958e-01, -1.31573435e-01, -3.48208329e-01,  5.57777386e-02,\n",
              "       -4.82865668e-01,  2.65080698e-02, -1.06542763e+00, -2.57455494e-01,\n",
              "       -3.01367023e-01, -1.66702658e-01,  1.64095186e-01,  1.58242657e-01,\n",
              "        5.56369170e-01,  4.45128972e-01, -3.33566469e-01, -8.98563819e-01,\n",
              "       -5.41419057e-01,  9.07661403e-01, -6.11677504e-01, -1.58065390e+00,\n",
              "       -3.13079106e-01, -5.99965421e-01, -1.13861585e+00, -1.03322818e+00,\n",
              "       -5.41419057e-01, -9.60039959e-01,  2.08006715e-01,  9.10591181e-01,\n",
              "        2.06485153e-02,  8.93026569e-01,  8.78391734e-01, -2.51602965e-01,\n",
              "       -4.03824915e-01, -1.43135470e+00, -1.43428447e+00, -1.49576061e+00,\n",
              "        7.14450675e-01,  1.33214186e+00,  5.91498394e-01, -3.48208329e-01,\n",
              "       -3.68695692e-01,  1.87512326e-01,  6.67616395e-01,  3.25106468e-01,\n",
              "        9.98414239e-01, -1.10933916e+00, -1.21179705e+00, -1.60850130e-01,\n",
              "        1.01012632e+00,  9.36938098e-01,  1.56048181e+00, -4.64612523e-01,\n",
              "       -5.15072140e-01, -5.58983669e-01, -2.10614187e-01,  7.92019047e-02,\n",
              "        6.96886064e-01,  6.23704866e-01,  8.02273733e-01,  1.14186091e+00,\n",
              "        1.82013595e+00,  2.03179655e+00,  2.18975159e+00,  1.89713921e+00,\n",
              "        8.84244263e-01,  6.03210477e-01,  4.51620852e-01,  5.94428171e-01,\n",
              "        4.86110724e-01,  5.71011031e-01, -2.63308022e-01,  6.35409923e-01,\n",
              "        4.71475889e-01,  4.36346666e-01,  1.78003946e+00,  1.91177404e+00,\n",
              "        1.92640888e+00,  2.42114778e+00,  1.64830487e+00,  1.52535259e+00,\n",
              "        1.54876973e+00,  1.80931615e+00,  1.55169951e+00,  5.00752584e-01,\n",
              "        1.37748268e-01,  8.84244263e-01,  1.15064321e+00,  9.34008321e-01,\n",
              "        5.76863559e-01,  1.40678045e-01, -4.96099312e-02,  3.95364914e-01,\n",
              "        5.15387419e-01,  6.99815841e-01,  7.43727370e-01,  1.27066572e+00,\n",
              "        1.95568557e+00,  1.88835690e+00,  6.20775088e-01, -1.01566357e+00,\n",
              "       -9.92239406e-01, -3.39426023e-01,  5.18317196e-01,  1.87816943e+00,\n",
              "        5.87075158e-02, -3.77477998e-01,  8.94345813e-03,  7.96421205e-01,\n",
              "        1.01304907e+00, -3.49680710e-02,  6.50051783e-01,  1.29994241e+00,\n",
              "       -2.95514494e-01,  1.78882176e+00, -2.91155424e-02,  5.30022253e-01,\n",
              "        3.92435137e-01,  6.38339700e-01,  5.21239947e-01, -3.78978482e-02,\n",
              "       -7.63899454e-01,  7.49579899e-01,  9.19373486e-01,  6.58834089e-01,\n",
              "        9.16443709e-01,  1.30286517e+00, -1.27620297e+00, -5.26777197e-01,\n",
              "       -1.19130969e+00, -2.86732188e-01,  4.27564360e-01,  2.12254938e+00,\n",
              "       -3.65772941e-01, -1.53088984e+00, -8.83928984e-01,  3.98287666e-01,\n",
              "        1.98203249e+00,  2.35088934e+00,  9.13520958e-01, -5.53124114e-01,\n",
              "        1.11401351e-01,  3.77800303e-01,  4.94893030e-01,  8.09018544e-01,\n",
              "        1.42581745e+00, -1.02303766e-01, -7.25847479e-01, -1.44807080e-02,\n",
              "       -1.05226518e-01,  1.03939599e+00,  1.39947053e+00,  2.26013650e+00,\n",
              "        2.40651295e+00, -3.36496246e-01,  4.77328418e-01, -8.45869984e-01,\n",
              "       -9.68822265e-01,  3.01682302e-01, -2.66237800e-01,  2.51918244e-01,\n",
              "        4.40726814e-02, -8.95634041e-01, -4.71160611e-01, -2.92584717e-01,\n",
              "        6.74898217e-02, -2.28178799e-01,  1.61902817e+00,  9.10591181e-01,\n",
              "        4.09999749e-01, -5.99965421e-01,  3.75249921e-01, -8.49685017e-01,\n",
              "        9.45720404e-01, -8.71071689e-01, -3.77477998e-01,  6.16372931e-02,\n",
              "       -8.47391545e-02,  4.53911278e-01, -1.73250348e+00, -1.31133219e+00,\n",
              "       -1.49869039e+00, -7.28770231e-01, -6.02895198e-01, -6.76076396e-01,\n",
              "       -1.14446838e+00,  5.18317196e-01,  1.30876992e-01,  1.54291720e+00,\n",
              "        1.22968397e+00, -8.45869984e-01, -1.19716222e+00, -1.46648392e+00,\n",
              "       -7.40482314e-01,  6.19629876e-01, -1.29669736e+00, -9.16128430e-01,\n",
              "       -1.24985605e+00,  1.42874722e+00,  1.18284266e+00,  1.99081480e+00,\n",
              "        1.46094667e+00,  1.11401351e-01,  9.95484462e-01,  7.96421205e-01,\n",
              "       -5.94112892e-01, -2.22469200e+00, -1.59529576e+00, -1.48404853e+00,\n",
              "       -8.42940207e-01,  3.16324162e-01, -7.11205619e-01,  1.06574291e+00,\n",
              "        4.21711832e-01, -4.01882736e-02, -9.24910736e-01,  6.67616395e-01,\n",
              "       -4.62378305e-01, -6.17530032e-01,  7.26162758e-01, -1.14739816e+00,\n",
              "       -1.52210753e+00, -8.37087678e-01, -6.79006173e-01,  8.78391734e-01,\n",
              "        4.69954328e-02, -6.55589033e-01, -7.87323620e-01, -8.43579558e-01,\n",
              "       -2.35689427e-01, -4.21389527e-01, -5.15072140e-01,  7.70074287e-01,\n",
              "       -1.63042498e+00, -1.53088984e+00, -9.62969737e-01, -1.63042498e+00,\n",
              "        1.24279419e+00, -8.76619059e-02,  2.05076938e-01, -4.66801540e-02,\n",
              "       -1.57773114e+00, -8.54652290e-01, -1.20301475e+00, -8.04888232e-01,\n",
              "       -4.24319304e-01, -1.55138423e+00, -1.94951074e+00, -1.06046036e+00,\n",
              "       -9.74674794e-01, -7.30270715e-02, -8.48799761e-01, -3.39426023e-01,\n",
              "        1.50485820e+00,  8.98879097e-01,  1.27944803e+00,  7.08598147e-01,\n",
              "        1.26481319e+00,  1.35848878e+00,  1.42874722e+00,  4.65623361e-01,\n",
              "        1.80931615e+00,  1.77710968e+00, -1.05371555e+00, -2.37399120e+00,\n",
              "       -1.03029841e+00, -1.32596703e+00, -3.30643718e-01,  7.75926816e-01,\n",
              "        3.39741302e-01, -8.68015446e-01, -1.62456542e+00, -1.11226894e+00,\n",
              "       -1.78264693e+00, -1.76215957e+00, -2.62574829e+00, -2.47352634e+00,\n",
              "       -2.18078047e+00, -1.35524372e+00, -1.11239540e+00, -1.13568608e+00,\n",
              "       -1.54260192e+00, -8.78069430e-01, -8.42940207e-01, -4.65301056e-01,\n",
              "       -1.66847695e+00, -4.12607221e-01, -1.08156295e-01,  4.68546112e-01,\n",
              "        3.86582608e-01,  1.45802392e+00,  9.74997098e-01, -1.22057936e+00,\n",
              "       -1.40500778e+00,  9.04738652e-01, -1.59529576e+00, -9.71752042e-01,\n",
              "       -2.86732188e-01, -4.06754693e-01,  2.22641549e-01,  1.18869519e+00,\n",
              "        9.86702156e-01,  7.55439453e-01,  9.04738652e-01,  7.87638899e-01,\n",
              "        2.54848021e-01,  4.07069971e-01,  8.16915594e-01, -5.32636751e-01,\n",
              "       -1.87925229e+00, -1.03615093e+00, -3.62843164e-01,  1.13600135e+00,\n",
              "        1.17113058e+00,  4.91970278e-01, -7.58046926e-01, -7.34629785e-01,\n",
              "       -1.20594452e+00, -6.84858702e-01,  1.28823033e+00,  9.69137544e-01,\n",
              "        1.03061368e+00,  6.23704866e-01,  8.37402957e-01,  7.34945064e-01,\n",
              "        4.86110724e-01,  3.39741302e-01,  3.98287666e-01,  2.95829773e-01,\n",
              "       -9.48327876e-01,  8.95956346e-01, -5.53124114e-01, -9.45405125e-01,\n",
              "       -9.89316654e-01, -1.02303766e-01, -1.16938601e-01, -4.27249082e-01,\n",
              "       -1.12397399e+00, -1.34060889e+00, -6.29242115e-01, -2.80872634e-01,\n",
              "        1.44338206e+00, -3.21861412e-01, -4.09684470e-01, -2.69167577e-01,\n",
              "       -8.69287124e-01, -2.04761659e-01,  1.05403785e+00,  4.36346666e-01,\n",
              "       -2.51602965e-01, -4.21389527e-01, -3.80407775e-01, -6.55589033e-01,\n",
              "       -1.04493324e+00, -8.69287124e-01, -1.78850648e+00, -1.88218207e+00,\n",
              "       -1.44306678e+00, -9.77604571e-01, -1.87197047e-01, -7.66829231e-01,\n",
              "       -1.27035044e+00, -9.54187431e-01, -6.26312338e-01, -1.19423244e+00,\n",
              "       -1.24400352e+00, -9.54187431e-01, -3.80407775e-01,  3.89505360e-01,\n",
              "        2.78265161e-01,  3.82131270e-02, -6.90718256e-01, -9.98098960e-01,\n",
              "        5.00752584e-01,  6.32487171e-01,  1.20183657e-01, -8.57582067e-01,\n",
              "       -3.56990635e-01, -1.93049576e-01,  1.51950006e+00,  1.66879926e+00,\n",
              "        9.45720404e-01,  4.65623361e-01,  1.90442103e-01, -1.24985605e+00,\n",
              "       -2.19396493e-01, -2.34038353e-01, -1.02303766e-01, -2.91155424e-02,\n",
              "        2.87047467e-01,  5.35881807e-01,  3.48523608e-01,  2.22641549e-01,\n",
              "        1.02619045e-01, -1.02303766e-01,  1.72877492e-01,  1.84589575e-01,\n",
              "        5.32952030e-01,  3.16324162e-01, -5.25326826e-02,  6.17845311e-01,\n",
              "        7.37874841e-01, -6.84858702e-01, -5.79471032e-01,  4.12929526e-01,\n",
              "       -5.83922371e-02, -7.63899454e-01, -4.00902164e-01, -1.72562213e-01,\n",
              "        5.88575642e-01,  7.46657147e-01,  3.22176690e-01,  3.45593831e-01,\n",
              "        5.57777386e-02, -9.05916831e-02,  5.97357948e-01,  1.53120512e+00,\n",
              "        7.20310230e-01, -5.54624598e-02, -5.32636751e-01, -2.63308022e-01,\n",
              "       -2.83802411e-01,  7.33423503e-02,  1.31457725e+00,  1.14478366e+00,\n",
              "        8.93026569e-01,  7.96421205e-01,  1.28237780e+00,  7.61291982e-01,\n",
              "        1.20333705e+00, -5.64836197e-01, -8.72216901e-01, -7.58046926e-01,\n",
              "       -3.56990635e-01,  6.45600444e-02,  3.13394385e-01, -8.86851736e-01,\n",
              "       -4.06754693e-01,  7.49579899e-01,  1.71856332e+00, -6.40947173e-01,\n",
              "       -6.71745429e-02,  2.87047467e-01,  1.31895740e-01, -1.12983355e+00,\n",
              "       -9.48327876e-01, -4.06754693e-01,  2.06485153e-02,  4.42199195e-01,\n",
              "        4.36346666e-01, -5.97035644e-01, -3.13079106e-01,  1.49460351e-01,\n",
              "        1.71271079e+00,  1.16527805e+00,  6.67616395e-01, -2.76862491e-03,\n",
              "        2.54848021e-01,  5.65151476e-01,  5.73933782e-01,  9.39867875e-01,\n",
              "        2.06485153e-02, -1.15618046e+00, -6.23382561e-01, -9.36622819e-01,\n",
              "        8.79842105e-02,  5.59298948e-01, -4.88725222e-01,  4.56841055e-01,\n",
              "        7.05668369e-01,  1.31457725e+00, -3.86260304e-01, -8.28305372e-01,\n",
              "       -4.18466776e-01,  9.67665163e-02,  5.87075158e-02,  1.21211936e+00,\n",
              "        1.25895364e+00,  6.47122006e-01,  4.68546112e-01,  1.77125715e+00,\n",
              "        1.38803245e+00,  2.72412633e-01, -3.24784163e-01, -7.43412091e-01,\n",
              "       -9.60039959e-01, -6.67294090e-01, -9.39545571e-01, -4.27249082e-01,\n",
              "       -5.64836197e-01, -2.06852152e+00, -6.11677504e-01,  1.23113434e-01,\n",
              "        2.19718798e-01,  7.99350982e-01,  2.46065715e-01, -5.32636751e-01,\n",
              "       -5.25326826e-02, -7.25847479e-01, -5.79471032e-01,  4.56841055e-01,\n",
              "       -3.20453196e-02,  4.01217443e-01, -9.93739889e-02, -3.33566469e-01,\n",
              "       -4.15536999e-01, -1.56894884e+00, -1.12105124e+00, -6.49729478e-01,\n",
              "        1.11551399e+00, -8.54652290e-01, -5.07561512e-01,  1.52383103e-01,\n",
              "        1.25603088e+00,  1.37312361e+00,  9.80849627e-01,  7.43727370e-01,\n",
              "       -1.00395149e+00, -8.37087678e-01,  9.57432487e-01,  1.99081480e+00,\n",
              "        1.94983304e+00,  2.08742016e+00, -2.19396493e-01, -6.29242115e-01,\n",
              "       -9.98098960e-01,  1.05548822e-01,  1.58242657e-01,  1.48144106e+00,\n",
              "        1.96153810e+00,  2.69482856e-01, -1.74034593e-02,  2.81194939e-01,\n",
              "       -5.00430280e-01, -1.31133219e+00, -7.90246372e-01,  1.14809283e+00,\n",
              "        7.50985067e-01,  1.37312361e+00,  1.75807269e-01, -2.66237800e-01,\n",
              "        8.78391734e-01, -1.01566357e+00, -3.54060858e-01])"
            ]
          },
          "metadata": {},
          "execution_count": 63
        }
      ]
    },
    {
      "cell_type": "code",
      "source": [
        "stats.zscore(weather_df[\"hum\"])>3"
      ],
      "metadata": {
        "colab": {
          "base_uri": "https://localhost:8080/"
        },
        "id": "mEaaHsgtxNmd",
        "outputId": "4afa2dfd-a5bd-44d0-93b0-c631ec561171"
      },
      "execution_count": 67,
      "outputs": [
        {
          "output_type": "execute_result",
          "data": {
            "text/plain": [
              "array([False, False, False, False, False, False, False, False, False,\n",
              "       False, False, False, False, False, False, False, False, False,\n",
              "       False, False, False, False, False, False, False, False, False,\n",
              "       False, False, False, False, False, False, False, False, False,\n",
              "       False, False, False, False, False, False, False, False, False,\n",
              "       False, False, False, False, False, False, False, False, False,\n",
              "       False, False, False, False, False, False, False, False, False,\n",
              "       False, False, False, False, False, False, False, False, False,\n",
              "       False, False, False, False, False, False, False, False, False,\n",
              "       False, False, False, False, False, False, False, False, False,\n",
              "       False, False, False, False, False, False, False, False, False,\n",
              "       False, False, False, False, False, False, False, False, False,\n",
              "       False, False, False, False, False, False, False, False, False,\n",
              "       False, False, False, False, False, False, False, False, False,\n",
              "       False, False, False, False, False, False, False, False, False,\n",
              "       False, False, False, False, False, False, False, False, False,\n",
              "       False, False, False, False, False, False, False, False, False,\n",
              "       False, False, False, False, False, False, False, False, False,\n",
              "       False, False, False, False, False, False, False, False, False,\n",
              "       False, False, False, False, False, False, False, False, False,\n",
              "       False, False, False, False, False, False, False, False, False,\n",
              "       False, False, False, False, False, False, False, False, False,\n",
              "       False, False, False, False, False, False, False, False, False,\n",
              "       False, False, False, False, False, False, False, False, False,\n",
              "       False, False, False, False, False, False, False, False, False,\n",
              "       False, False, False, False, False, False, False, False, False,\n",
              "       False, False, False, False, False, False, False, False, False,\n",
              "       False, False, False, False, False, False, False, False, False,\n",
              "       False, False, False, False, False, False, False, False, False,\n",
              "       False, False, False, False, False, False, False, False, False,\n",
              "       False, False, False, False, False, False, False, False, False,\n",
              "       False, False, False, False, False, False, False, False, False,\n",
              "       False, False, False, False, False, False, False, False, False,\n",
              "       False, False, False, False, False, False, False, False, False,\n",
              "       False, False, False, False, False, False, False, False, False,\n",
              "       False, False, False, False, False, False, False, False, False,\n",
              "       False, False, False, False, False, False, False, False, False,\n",
              "       False, False, False, False, False, False, False, False, False,\n",
              "       False, False, False, False, False, False, False, False, False,\n",
              "       False, False, False, False, False, False, False, False, False,\n",
              "       False, False, False, False, False, False, False, False, False,\n",
              "       False, False, False, False, False, False, False, False, False,\n",
              "       False, False, False, False, False, False, False, False, False,\n",
              "       False, False, False, False, False, False, False, False, False,\n",
              "       False, False, False, False, False, False, False, False, False,\n",
              "       False, False, False, False, False, False, False, False, False,\n",
              "       False, False, False, False, False, False, False, False, False,\n",
              "       False, False, False, False, False, False, False, False, False,\n",
              "       False, False, False, False, False, False, False, False, False,\n",
              "       False, False, False, False, False, False, False, False, False,\n",
              "       False, False, False, False, False, False, False, False, False,\n",
              "       False, False, False, False, False, False, False, False, False,\n",
              "       False, False, False, False, False, False, False, False, False,\n",
              "       False, False, False, False, False, False, False, False, False,\n",
              "       False, False, False, False, False, False, False, False, False,\n",
              "       False, False, False, False, False, False, False, False, False,\n",
              "       False, False, False, False, False, False, False, False, False,\n",
              "       False, False, False, False, False, False, False, False, False,\n",
              "       False, False, False, False, False, False, False, False, False,\n",
              "       False, False, False, False, False, False, False, False, False,\n",
              "       False, False, False, False, False, False, False, False, False,\n",
              "       False, False, False, False, False, False, False, False, False,\n",
              "       False, False, False, False, False, False, False, False, False,\n",
              "       False, False, False, False, False, False, False, False, False,\n",
              "       False, False, False, False, False, False, False, False, False,\n",
              "       False, False, False, False, False, False, False, False, False,\n",
              "       False, False, False, False, False, False, False, False, False,\n",
              "       False, False, False, False, False, False, False, False, False,\n",
              "       False, False, False, False, False, False, False, False, False,\n",
              "       False, False, False, False, False, False, False, False, False,\n",
              "       False, False, False, False, False, False, False, False, False,\n",
              "       False, False, False, False, False, False, False, False, False,\n",
              "       False, False, False, False, False, False, False, False, False,\n",
              "       False, False, False, False, False, False, False, False, False,\n",
              "       False, False, False, False, False, False, False, False, False,\n",
              "       False, False, False, False, False, False, False, False, False,\n",
              "       False, False, False, False, False, False, False, False, False,\n",
              "       False, False, False, False, False, False, False, False, False,\n",
              "       False, False, False, False, False, False, False, False, False,\n",
              "       False, False, False, False, False, False, False, False, False,\n",
              "       False, False, False, False, False, False, False, False, False,\n",
              "       False, False])"
            ]
          },
          "metadata": {},
          "execution_count": 67
        }
      ]
    },
    {
      "cell_type": "code",
      "source": [
        "outlier_hum = weather_df[stats.zscore(weather_df[\"hum\"]) >3]"
      ],
      "metadata": {
        "id": "MSHHLVjQwY-c"
      },
      "execution_count": 24,
      "outputs": []
    },
    {
      "cell_type": "code",
      "source": [
        "outlier_hum.shape"
      ],
      "metadata": {
        "colab": {
          "base_uri": "https://localhost:8080/"
        },
        "id": "kchbfWr4wwmR",
        "outputId": "7767f803-5fb1-4032-b240-7627bcec3f72"
      },
      "execution_count": 25,
      "outputs": [
        {
          "output_type": "execute_result",
          "data": {
            "text/plain": [
              "(0, 16)"
            ]
          },
          "metadata": {},
          "execution_count": 25
        }
      ]
    },
    {
      "cell_type": "markdown",
      "source": [
        "So there are no outlier with threshold 3 in the given dataset. So since no outlier, we needn't replace with mean."
      ],
      "metadata": {
        "id": "TiMEiE1u0o0N"
      }
    },
    {
      "cell_type": "markdown",
      "source": [
        "## Now let's look at windspeed"
      ],
      "metadata": {
        "id": "sgCzFgQr02kl"
      }
    },
    {
      "cell_type": "code",
      "source": [
        "from scipy.stats import iqr"
      ],
      "metadata": {
        "id": "W4PZOhAE1xLw"
      },
      "execution_count": 26,
      "outputs": []
    },
    {
      "cell_type": "code",
      "source": [
        "intr_qr = iqr(weather_df['windspeed'], axis=0)"
      ],
      "metadata": {
        "id": "e5jNkaVF2Zce"
      },
      "execution_count": 27,
      "outputs": []
    },
    {
      "cell_type": "code",
      "source": [
        "q75,q25 = np.percentile(weather_df.loc[:,'windspeed'],[75,25])\n",
        "max = q75+(1.5*intr_qr)\n",
        "min = q25-(1.5*intr_qr)\n",
        "\n",
        "max, min"
      ],
      "metadata": {
        "colab": {
          "base_uri": "https://localhost:8080/"
        },
        "id": "LxVIUNIv2kvq",
        "outputId": "9171be84-f881-42c9-c38f-a3d3f9cf2f0e"
      },
      "execution_count": 28,
      "outputs": [
        {
          "output_type": "execute_result",
          "data": {
            "text/plain": [
              "(0.38061125, -0.012446750000000034)"
            ]
          },
          "metadata": {},
          "execution_count": 28
        }
      ]
    },
    {
      "cell_type": "code",
      "source": [
        "weather_df.loc[weather_df['windspeed'] < min,'windspeed'] = np.nan\n",
        "weather_df.loc[weather_df['windspeed'] > max,'windspeed'] = np.nan"
      ],
      "metadata": {
        "id": "JflILGrf3a_k"
      },
      "execution_count": 29,
      "outputs": []
    },
    {
      "cell_type": "markdown",
      "source": [
        "**Checking for NA values**"
      ],
      "metadata": {
        "id": "-sRLr42N4Gft"
      }
    },
    {
      "cell_type": "code",
      "source": [
        "weather_df.isna().sum()"
      ],
      "metadata": {
        "colab": {
          "base_uri": "https://localhost:8080/"
        },
        "id": "Kb67tdEj3O6D",
        "outputId": "0b53d1da-09cc-4bb1-ec35-cda5422282b9"
      },
      "execution_count": 30,
      "outputs": [
        {
          "output_type": "execute_result",
          "data": {
            "text/plain": [
              "instant        0\n",
              "dteday         0\n",
              "season         0\n",
              "yr             0\n",
              "mnth           0\n",
              "holiday        0\n",
              "weekday        0\n",
              "workingday     0\n",
              "weathersit     0\n",
              "temp           0\n",
              "atemp          0\n",
              "hum            0\n",
              "windspeed     13\n",
              "casual         0\n",
              "registered     0\n",
              "cnt            0\n",
              "dtype: int64"
            ]
          },
          "metadata": {},
          "execution_count": 30
        }
      ]
    },
    {
      "cell_type": "markdown",
      "source": [
        "**Drop NA value**"
      ],
      "metadata": {
        "id": "beVKt0HI4JKz"
      }
    },
    {
      "cell_type": "code",
      "source": [
        "weather_df = weather_df.dropna()"
      ],
      "metadata": {
        "id": "DOo5SIit37H0"
      },
      "execution_count": 31,
      "outputs": []
    },
    {
      "cell_type": "code",
      "source": [
        "weather_df.info()"
      ],
      "metadata": {
        "colab": {
          "base_uri": "https://localhost:8080/"
        },
        "id": "14ikQdQ54NnL",
        "outputId": "8ab028fd-af98-4fae-f8b5-b3486a645b65"
      },
      "execution_count": 32,
      "outputs": [
        {
          "output_type": "stream",
          "name": "stdout",
          "text": [
            "<class 'pandas.core.frame.DataFrame'>\n",
            "Int64Index: 718 entries, 0 to 730\n",
            "Data columns (total 16 columns):\n",
            " #   Column      Non-Null Count  Dtype  \n",
            "---  ------      --------------  -----  \n",
            " 0   instant     718 non-null    int64  \n",
            " 1   dteday      718 non-null    object \n",
            " 2   season      718 non-null    int64  \n",
            " 3   yr          718 non-null    int64  \n",
            " 4   mnth        718 non-null    int64  \n",
            " 5   holiday     718 non-null    int64  \n",
            " 6   weekday     718 non-null    int64  \n",
            " 7   workingday  718 non-null    int64  \n",
            " 8   weathersit  718 non-null    int64  \n",
            " 9   temp        718 non-null    float64\n",
            " 10  atemp       718 non-null    float64\n",
            " 11  hum         718 non-null    float64\n",
            " 12  windspeed   718 non-null    float64\n",
            " 13  casual      718 non-null    int64  \n",
            " 14  registered  718 non-null    int64  \n",
            " 15  cnt         718 non-null    int64  \n",
            "dtypes: float64(4), int64(11), object(1)\n",
            "memory usage: 95.4+ KB\n"
          ]
        }
      ]
    },
    {
      "cell_type": "code",
      "source": [
        "weather_df.describe()"
      ],
      "metadata": {
        "colab": {
          "base_uri": "https://localhost:8080/",
          "height": 364
        },
        "id": "8o00SAWO4aUy",
        "outputId": "9a641f01-d6b4-4385-b246-5dbdf600173d"
      },
      "execution_count": 33,
      "outputs": [
        {
          "output_type": "execute_result",
          "data": {
            "text/plain": [
              "          instant      season          yr        mnth     holiday     weekday  \\\n",
              "count  718.000000  718.000000  718.000000  718.000000  718.000000  718.000000   \n",
              "mean   366.364903    2.511142    0.498607    6.557103    0.029248    2.997214   \n",
              "std    211.116876    1.106221    0.500347    3.439284    0.168618    2.000695   \n",
              "min      1.000000    1.000000    0.000000    1.000000    0.000000    0.000000   \n",
              "25%    184.250000    2.000000    0.000000    4.000000    0.000000    1.000000   \n",
              "50%    364.500000    3.000000    0.000000    7.000000    0.000000    3.000000   \n",
              "75%    549.750000    3.000000    1.000000   10.000000    0.000000    5.000000   \n",
              "max    731.000000    4.000000    1.000000   12.000000    1.000000    6.000000   \n",
              "\n",
              "       workingday  weathersit        temp       atemp         hum   windspeed  \\\n",
              "count  718.000000  718.000000  718.000000  718.000000  718.000000  718.000000   \n",
              "mean     0.685237    1.398329    0.497214    0.476126    0.630683    0.186392   \n",
              "std      0.464745    0.546420    0.183533    0.163076    0.141107    0.071791   \n",
              "min      0.000000    1.000000    0.059130    0.079070    0.000000    0.022392   \n",
              "25%      0.000000    1.000000    0.338125    0.338045    0.524583    0.134331   \n",
              "50%      1.000000    1.000000    0.504655    0.491160    0.630833    0.178802   \n",
              "75%      1.000000    2.000000    0.656667    0.611120    0.732813    0.230724   \n",
              "max      1.000000    3.000000    0.861667    0.840896    0.972500    0.378108   \n",
              "\n",
              "            casual   registered          cnt  \n",
              "count   718.000000   718.000000   718.000000  \n",
              "mean    855.814763  3671.583565  4527.398329  \n",
              "std     689.457718  1560.879937  1937.695290  \n",
              "min       2.000000    20.000000    22.000000  \n",
              "25%     317.250000  2517.250000  3206.500000  \n",
              "50%     725.500000  3676.500000  4566.500000  \n",
              "75%    1119.500000  4805.500000  6021.250000  \n",
              "max    3410.000000  6946.000000  8714.000000  "
            ],
            "text/html": [
              "\n",
              "  <div id=\"df-b17c1395-7451-421a-9958-08e33b26ecfd\">\n",
              "    <div class=\"colab-df-container\">\n",
              "      <div>\n",
              "<style scoped>\n",
              "    .dataframe tbody tr th:only-of-type {\n",
              "        vertical-align: middle;\n",
              "    }\n",
              "\n",
              "    .dataframe tbody tr th {\n",
              "        vertical-align: top;\n",
              "    }\n",
              "\n",
              "    .dataframe thead th {\n",
              "        text-align: right;\n",
              "    }\n",
              "</style>\n",
              "<table border=\"1\" class=\"dataframe\">\n",
              "  <thead>\n",
              "    <tr style=\"text-align: right;\">\n",
              "      <th></th>\n",
              "      <th>instant</th>\n",
              "      <th>season</th>\n",
              "      <th>yr</th>\n",
              "      <th>mnth</th>\n",
              "      <th>holiday</th>\n",
              "      <th>weekday</th>\n",
              "      <th>workingday</th>\n",
              "      <th>weathersit</th>\n",
              "      <th>temp</th>\n",
              "      <th>atemp</th>\n",
              "      <th>hum</th>\n",
              "      <th>windspeed</th>\n",
              "      <th>casual</th>\n",
              "      <th>registered</th>\n",
              "      <th>cnt</th>\n",
              "    </tr>\n",
              "  </thead>\n",
              "  <tbody>\n",
              "    <tr>\n",
              "      <th>count</th>\n",
              "      <td>718.000000</td>\n",
              "      <td>718.000000</td>\n",
              "      <td>718.000000</td>\n",
              "      <td>718.000000</td>\n",
              "      <td>718.000000</td>\n",
              "      <td>718.000000</td>\n",
              "      <td>718.000000</td>\n",
              "      <td>718.000000</td>\n",
              "      <td>718.000000</td>\n",
              "      <td>718.000000</td>\n",
              "      <td>718.000000</td>\n",
              "      <td>718.000000</td>\n",
              "      <td>718.000000</td>\n",
              "      <td>718.000000</td>\n",
              "      <td>718.000000</td>\n",
              "    </tr>\n",
              "    <tr>\n",
              "      <th>mean</th>\n",
              "      <td>366.364903</td>\n",
              "      <td>2.511142</td>\n",
              "      <td>0.498607</td>\n",
              "      <td>6.557103</td>\n",
              "      <td>0.029248</td>\n",
              "      <td>2.997214</td>\n",
              "      <td>0.685237</td>\n",
              "      <td>1.398329</td>\n",
              "      <td>0.497214</td>\n",
              "      <td>0.476126</td>\n",
              "      <td>0.630683</td>\n",
              "      <td>0.186392</td>\n",
              "      <td>855.814763</td>\n",
              "      <td>3671.583565</td>\n",
              "      <td>4527.398329</td>\n",
              "    </tr>\n",
              "    <tr>\n",
              "      <th>std</th>\n",
              "      <td>211.116876</td>\n",
              "      <td>1.106221</td>\n",
              "      <td>0.500347</td>\n",
              "      <td>3.439284</td>\n",
              "      <td>0.168618</td>\n",
              "      <td>2.000695</td>\n",
              "      <td>0.464745</td>\n",
              "      <td>0.546420</td>\n",
              "      <td>0.183533</td>\n",
              "      <td>0.163076</td>\n",
              "      <td>0.141107</td>\n",
              "      <td>0.071791</td>\n",
              "      <td>689.457718</td>\n",
              "      <td>1560.879937</td>\n",
              "      <td>1937.695290</td>\n",
              "    </tr>\n",
              "    <tr>\n",
              "      <th>min</th>\n",
              "      <td>1.000000</td>\n",
              "      <td>1.000000</td>\n",
              "      <td>0.000000</td>\n",
              "      <td>1.000000</td>\n",
              "      <td>0.000000</td>\n",
              "      <td>0.000000</td>\n",
              "      <td>0.000000</td>\n",
              "      <td>1.000000</td>\n",
              "      <td>0.059130</td>\n",
              "      <td>0.079070</td>\n",
              "      <td>0.000000</td>\n",
              "      <td>0.022392</td>\n",
              "      <td>2.000000</td>\n",
              "      <td>20.000000</td>\n",
              "      <td>22.000000</td>\n",
              "    </tr>\n",
              "    <tr>\n",
              "      <th>25%</th>\n",
              "      <td>184.250000</td>\n",
              "      <td>2.000000</td>\n",
              "      <td>0.000000</td>\n",
              "      <td>4.000000</td>\n",
              "      <td>0.000000</td>\n",
              "      <td>1.000000</td>\n",
              "      <td>0.000000</td>\n",
              "      <td>1.000000</td>\n",
              "      <td>0.338125</td>\n",
              "      <td>0.338045</td>\n",
              "      <td>0.524583</td>\n",
              "      <td>0.134331</td>\n",
              "      <td>317.250000</td>\n",
              "      <td>2517.250000</td>\n",
              "      <td>3206.500000</td>\n",
              "    </tr>\n",
              "    <tr>\n",
              "      <th>50%</th>\n",
              "      <td>364.500000</td>\n",
              "      <td>3.000000</td>\n",
              "      <td>0.000000</td>\n",
              "      <td>7.000000</td>\n",
              "      <td>0.000000</td>\n",
              "      <td>3.000000</td>\n",
              "      <td>1.000000</td>\n",
              "      <td>1.000000</td>\n",
              "      <td>0.504655</td>\n",
              "      <td>0.491160</td>\n",
              "      <td>0.630833</td>\n",
              "      <td>0.178802</td>\n",
              "      <td>725.500000</td>\n",
              "      <td>3676.500000</td>\n",
              "      <td>4566.500000</td>\n",
              "    </tr>\n",
              "    <tr>\n",
              "      <th>75%</th>\n",
              "      <td>549.750000</td>\n",
              "      <td>3.000000</td>\n",
              "      <td>1.000000</td>\n",
              "      <td>10.000000</td>\n",
              "      <td>0.000000</td>\n",
              "      <td>5.000000</td>\n",
              "      <td>1.000000</td>\n",
              "      <td>2.000000</td>\n",
              "      <td>0.656667</td>\n",
              "      <td>0.611120</td>\n",
              "      <td>0.732813</td>\n",
              "      <td>0.230724</td>\n",
              "      <td>1119.500000</td>\n",
              "      <td>4805.500000</td>\n",
              "      <td>6021.250000</td>\n",
              "    </tr>\n",
              "    <tr>\n",
              "      <th>max</th>\n",
              "      <td>731.000000</td>\n",
              "      <td>4.000000</td>\n",
              "      <td>1.000000</td>\n",
              "      <td>12.000000</td>\n",
              "      <td>1.000000</td>\n",
              "      <td>6.000000</td>\n",
              "      <td>1.000000</td>\n",
              "      <td>3.000000</td>\n",
              "      <td>0.861667</td>\n",
              "      <td>0.840896</td>\n",
              "      <td>0.972500</td>\n",
              "      <td>0.378108</td>\n",
              "      <td>3410.000000</td>\n",
              "      <td>6946.000000</td>\n",
              "      <td>8714.000000</td>\n",
              "    </tr>\n",
              "  </tbody>\n",
              "</table>\n",
              "</div>\n",
              "      <button class=\"colab-df-convert\" onclick=\"convertToInteractive('df-b17c1395-7451-421a-9958-08e33b26ecfd')\"\n",
              "              title=\"Convert this dataframe to an interactive table.\"\n",
              "              style=\"display:none;\">\n",
              "        \n",
              "  <svg xmlns=\"http://www.w3.org/2000/svg\" height=\"24px\"viewBox=\"0 0 24 24\"\n",
              "       width=\"24px\">\n",
              "    <path d=\"M0 0h24v24H0V0z\" fill=\"none\"/>\n",
              "    <path d=\"M18.56 5.44l.94 2.06.94-2.06 2.06-.94-2.06-.94-.94-2.06-.94 2.06-2.06.94zm-11 1L8.5 8.5l.94-2.06 2.06-.94-2.06-.94L8.5 2.5l-.94 2.06-2.06.94zm10 10l.94 2.06.94-2.06 2.06-.94-2.06-.94-.94-2.06-.94 2.06-2.06.94z\"/><path d=\"M17.41 7.96l-1.37-1.37c-.4-.4-.92-.59-1.43-.59-.52 0-1.04.2-1.43.59L10.3 9.45l-7.72 7.72c-.78.78-.78 2.05 0 2.83L4 21.41c.39.39.9.59 1.41.59.51 0 1.02-.2 1.41-.59l7.78-7.78 2.81-2.81c.8-.78.8-2.07 0-2.86zM5.41 20L4 18.59l7.72-7.72 1.47 1.35L5.41 20z\"/>\n",
              "  </svg>\n",
              "      </button>\n",
              "      \n",
              "  <style>\n",
              "    .colab-df-container {\n",
              "      display:flex;\n",
              "      flex-wrap:wrap;\n",
              "      gap: 12px;\n",
              "    }\n",
              "\n",
              "    .colab-df-convert {\n",
              "      background-color: #E8F0FE;\n",
              "      border: none;\n",
              "      border-radius: 50%;\n",
              "      cursor: pointer;\n",
              "      display: none;\n",
              "      fill: #1967D2;\n",
              "      height: 32px;\n",
              "      padding: 0 0 0 0;\n",
              "      width: 32px;\n",
              "    }\n",
              "\n",
              "    .colab-df-convert:hover {\n",
              "      background-color: #E2EBFA;\n",
              "      box-shadow: 0px 1px 2px rgba(60, 64, 67, 0.3), 0px 1px 3px 1px rgba(60, 64, 67, 0.15);\n",
              "      fill: #174EA6;\n",
              "    }\n",
              "\n",
              "    [theme=dark] .colab-df-convert {\n",
              "      background-color: #3B4455;\n",
              "      fill: #D2E3FC;\n",
              "    }\n",
              "\n",
              "    [theme=dark] .colab-df-convert:hover {\n",
              "      background-color: #434B5C;\n",
              "      box-shadow: 0px 1px 3px 1px rgba(0, 0, 0, 0.15);\n",
              "      filter: drop-shadow(0px 1px 2px rgba(0, 0, 0, 0.3));\n",
              "      fill: #FFFFFF;\n",
              "    }\n",
              "  </style>\n",
              "\n",
              "      <script>\n",
              "        const buttonEl =\n",
              "          document.querySelector('#df-b17c1395-7451-421a-9958-08e33b26ecfd button.colab-df-convert');\n",
              "        buttonEl.style.display =\n",
              "          google.colab.kernel.accessAllowed ? 'block' : 'none';\n",
              "\n",
              "        async function convertToInteractive(key) {\n",
              "          const element = document.querySelector('#df-b17c1395-7451-421a-9958-08e33b26ecfd');\n",
              "          const dataTable =\n",
              "            await google.colab.kernel.invokeFunction('convertToInteractive',\n",
              "                                                     [key], {});\n",
              "          if (!dataTable) return;\n",
              "\n",
              "          const docLinkHtml = 'Like what you see? Visit the ' +\n",
              "            '<a target=\"_blank\" href=https://colab.research.google.com/notebooks/data_table.ipynb>data table notebook</a>'\n",
              "            + ' to learn more about interactive tables.';\n",
              "          element.innerHTML = '';\n",
              "          dataTable['output_type'] = 'display_data';\n",
              "          await google.colab.output.renderOutput(dataTable, element);\n",
              "          const docLink = document.createElement('div');\n",
              "          docLink.innerHTML = docLinkHtml;\n",
              "          element.appendChild(docLink);\n",
              "        }\n",
              "      </script>\n",
              "    </div>\n",
              "  </div>\n",
              "  "
            ]
          },
          "metadata": {},
          "execution_count": 33
        }
      ]
    },
    {
      "cell_type": "code",
      "source": [
        ""
      ],
      "metadata": {
        "id": "kV1OkyTv4l_3"
      },
      "execution_count": null,
      "outputs": []
    }
  ]
}